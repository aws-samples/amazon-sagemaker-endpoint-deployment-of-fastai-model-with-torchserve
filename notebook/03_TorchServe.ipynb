{
 "cells": [
  {
   "cell_type": "code",
   "execution_count": 1,
   "metadata": {},
   "outputs": [],
   "source": [
    "%reload_ext autoreload\n",
    "%autoreload 2\n",
    "\n",
    "\n",
    "%matplotlib inline"
   ]
  },
  {
   "cell_type": "markdown",
   "metadata": {},
   "source": [
    "# TorchServe"
   ]
  },
  {
   "cell_type": "markdown",
   "metadata": {},
   "source": [
    "For installation, please refer to:  \n",
    "https://github.com/pytorch/serve"
   ]
  },
  {
   "cell_type": "markdown",
   "metadata": {},
   "source": [
    "### model.py"
   ]
  },
  {
   "cell_type": "code",
   "execution_count": 2,
   "metadata": {},
   "outputs": [],
   "source": [
    "from fastai.vision.all import *\n",
    "from fastai.vision.learner import _default_meta\n",
    "from fastai.vision.models.unet import _get_sz_change_idxs, UnetBlock, ResizeToOrig\n",
    "\n",
    "\n",
    "class DynamicUnetDIY(SequentialEx):\n",
    "    \"Create a U-Net from a given architecture.\"\n",
    "\n",
    "    def __init__(\n",
    "        self,\n",
    "        arch=resnet50,\n",
    "        n_classes=32,\n",
    "        img_size=(96, 128),\n",
    "        blur=False,\n",
    "        blur_final=True,\n",
    "        y_range=None,\n",
    "        last_cross=True,\n",
    "        bottle=False,\n",
    "        init=nn.init.kaiming_normal_,\n",
    "        norm_type=None,\n",
    "        self_attention=None,\n",
    "        act_cls=defaults.activation,\n",
    "        n_in=3,\n",
    "        cut=None,\n",
    "        **kwargs\n",
    "    ):\n",
    "        meta = model_meta.get(arch, _default_meta)\n",
    "        encoder = create_body(\n",
    "            arch, n_in, pretrained=False, cut=ifnone(cut, meta[\"cut\"])\n",
    "        )\n",
    "        imsize = img_size\n",
    "\n",
    "        sizes = model_sizes(encoder, size=imsize)\n",
    "        sz_chg_idxs = list(reversed(_get_sz_change_idxs(sizes)))\n",
    "        self.sfs = hook_outputs([encoder[i] for i in sz_chg_idxs], detach=False)\n",
    "        x = dummy_eval(encoder, imsize).detach()\n",
    "\n",
    "        ni = sizes[-1][1]\n",
    "        middle_conv = nn.Sequential(\n",
    "            ConvLayer(ni, ni * 2, act_cls=act_cls, norm_type=norm_type, **kwargs),\n",
    "            ConvLayer(ni * 2, ni, act_cls=act_cls, norm_type=norm_type, **kwargs),\n",
    "        ).eval()\n",
    "        x = middle_conv(x)\n",
    "        layers = [encoder, BatchNorm(ni), nn.ReLU(), middle_conv]\n",
    "\n",
    "        for i, idx in enumerate(sz_chg_idxs):\n",
    "            not_final = i != len(sz_chg_idxs) - 1\n",
    "            up_in_c, x_in_c = int(x.shape[1]), int(sizes[idx][1])\n",
    "            do_blur = blur and (not_final or blur_final)\n",
    "            sa = self_attention and (i == len(sz_chg_idxs) - 3)\n",
    "            unet_block = UnetBlock(\n",
    "                up_in_c,\n",
    "                x_in_c,\n",
    "                self.sfs[i],\n",
    "                final_div=not_final,\n",
    "                blur=do_blur,\n",
    "                self_attention=sa,\n",
    "                act_cls=act_cls,\n",
    "                init=init,\n",
    "                norm_type=norm_type,\n",
    "                **kwargs\n",
    "            ).eval()\n",
    "            layers.append(unet_block)\n",
    "            x = unet_block(x)\n",
    "\n",
    "        ni = x.shape[1]\n",
    "        if imsize != sizes[0][-2:]:\n",
    "            layers.append(PixelShuffle_ICNR(ni, act_cls=act_cls, norm_type=norm_type))\n",
    "        layers.append(ResizeToOrig())\n",
    "        if last_cross:\n",
    "            layers.append(MergeLayer(dense=True))\n",
    "            ni += in_channels(encoder)\n",
    "            layers.append(\n",
    "                ResBlock(\n",
    "                    1,\n",
    "                    ni,\n",
    "                    ni // 2 if bottle else ni,\n",
    "                    act_cls=act_cls,\n",
    "                    norm_type=norm_type,\n",
    "                    **kwargs\n",
    "                )\n",
    "            )\n",
    "        layers += [\n",
    "            ConvLayer(ni, n_classes, ks=1, act_cls=None, norm_type=norm_type, **kwargs)\n",
    "        ]\n",
    "        apply_init(nn.Sequential(layers[3], layers[-2]), init)\n",
    "        # apply_init(nn.Sequential(layers[2]), init)\n",
    "        if y_range is not None:\n",
    "            layers.append(SigmoidRange(*y_range))\n",
    "        super().__init__(*layers)\n",
    "\n",
    "    def __del__(self):\n",
    "        if hasattr(self, \"sfs\"):\n",
    "            self.sfs.remove()\n"
   ]
  },
  {
   "cell_type": "markdown",
   "metadata": {},
   "source": [
    "### handler.py\n",
    "\n",
    "Reference:  \n",
    "- https://github.com/pytorch/serve/tree/master/ts/torch_handler"
   ]
  },
  {
   "cell_type": "code",
   "execution_count": 3,
   "metadata": {},
   "outputs": [],
   "source": [
    "import base64\n",
    "import io\n",
    "import logging\n",
    "import os\n",
    "\n",
    "import numpy as np\n",
    "import torch\n",
    "from PIL import Image\n",
    "from torch.autograd import Variable\n",
    "from torchvision import transforms\n",
    "\n",
    "logger = logging.getLogger(__name__)\n",
    "\n",
    "\n",
    "class DIYSegmentation:\n",
    "    \"\"\"\n",
    "    DIYSegmentation handler class.\n",
    "    \"\"\"\n",
    "\n",
    "    def __init__(self):\n",
    "        self.model = None\n",
    "        self.mapping = None\n",
    "        self.device = None\n",
    "        self.initialized = False\n",
    "\n",
    "    def initialize(self, ctx):\n",
    "        \"\"\"\n",
    "        load eager mode state_dict based model\n",
    "        \"\"\"\n",
    "        properties = ctx.system_properties\n",
    "        self.device = torch.device(\n",
    "            \"cuda:\" + str(properties.get(\"gpu_id\"))\n",
    "            if torch.cuda.is_available()\n",
    "            else \"cpu\"\n",
    "        )\n",
    "        model_dir = properties.get(\"model_dir\")\n",
    "        print(model_dir)\n",
    "\n",
    "        manifest = ctx.manifest\n",
    "        logger.error(manifest)\n",
    "        serialized_file = manifest[\"model\"][\"serializedFile\"]\n",
    "        model_pt_path = os.path.join(model_dir, serialized_file)\n",
    "        if not os.path.isfile(model_pt_path):\n",
    "            raise RuntimeError(\"Missing the model definition file\")\n",
    "\n",
    "        logger.debug(model_pt_path)\n",
    "\n",
    "        from model import DynamicUnetDIY\n",
    "\n",
    "        state_dict = torch.load(model_pt_path, map_location=self.device)\n",
    "        self.model = DynamicUnetDIY()\n",
    "        self.model.load_state_dict(state_dict)\n",
    "        self.model.to(self.device)\n",
    "        self.model.eval()\n",
    "\n",
    "        logger.debug(\"Model file {0} loaded successfully\".format(model_pt_path))\n",
    "        self.initialized = True\n",
    "\n",
    "    def preprocess(self, data):\n",
    "        \"\"\"\n",
    "        Scales and normalizes a PIL image for an U-net model\n",
    "        \"\"\"\n",
    "        image = data[0].get(\"data\")\n",
    "        if image is None:\n",
    "            image = data[0].get(\"body\")\n",
    "\n",
    "        chipstack_transform = transforms.Compose(\n",
    "            [\n",
    "                # must be consistent with model training\n",
    "                transforms.Resize((96, 128)),\n",
    "                transforms.ToTensor(),\n",
    "                # default statistics from imagenet\n",
    "                transforms.Normalize(\n",
    "                    mean=[0.485, 0.456, 0.406], std=[0.229, 0.224, 0.225]\n",
    "                ),\n",
    "            ]\n",
    "        )\n",
    "        image = Image.open(io.BytesIO(image)).convert(\n",
    "            \"RGB\"\n",
    "        )  # in case of an alpha channel\n",
    "        image = chipstack_transform(image).unsqueeze_(0)\n",
    "        return image\n",
    "\n",
    "    def inference(self, img):\n",
    "        \"\"\"\n",
    "        Predict the chip stack mask of an image using a trained deep learning model.\n",
    "        \"\"\"\n",
    "        self.model.eval()\n",
    "        inputs = Variable(img).to(self.device)\n",
    "        outputs = self.model.forward(inputs)\n",
    "        logging.debug(outputs.shape)\n",
    "        return outputs\n",
    "\n",
    "    def postprocess(self, inference_output):\n",
    "\n",
    "        if torch.cuda.is_available():\n",
    "            inference_output = inference_output[0].argmax(dim=0).cpu()\n",
    "        else:\n",
    "            inference_output = inference_output[0].argmax(dim=0)\n",
    "\n",
    "        return [\n",
    "            {\n",
    "                \"base64_prediction\": base64.b64encode(\n",
    "                    inference_output.numpy().astype(np.uint8)\n",
    "                ).decode(\"utf-8\")\n",
    "            }\n",
    "        ]\n",
    "\n",
    "\n",
    "_service = DIYSegmentation()\n",
    "\n",
    "\n",
    "def handle(data, context):\n",
    "    if not _service.initialized:\n",
    "        _service.initialize(context)\n",
    "\n",
    "    if data is None:\n",
    "        return None\n",
    "\n",
    "    data = _service.preprocess(data)\n",
    "    data = _service.inference(data)\n",
    "    data = _service.postprocess(data)\n",
    "\n",
    "    return data\n"
   ]
  },
  {
   "cell_type": "markdown",
   "metadata": {},
   "source": [
    "### Archive the Model\n",
    "\n",
    "```bash\n",
    "torch-model-archiver --model-name fastunet --version 1.0 --model-file deployment/model.py --serialized-file deployment/fasti_unet_weights.pth --export-path model_store --handler deployment/handler.py -f\n",
    "```"
   ]
  },
  {
   "cell_type": "markdown",
   "metadata": {},
   "source": [
    "### Serve the Model\n",
    "\n",
    "```bash\n",
    "torchserve --start --ncs --model-store model_store --models fastunet.mar\n",
    "```"
   ]
  },
  {
   "cell_type": "markdown",
   "metadata": {},
   "source": [
    "### Call API\n",
    "\n",
    "```bash\n",
    "time http POST http://127.0.0.1:8080/predictions/fastunet/ @sample/Seq05VD_f00210.png\n",
    "```"
   ]
  },
  {
   "cell_type": "markdown",
   "metadata": {},
   "source": [
    "### Sample Response\n",
    "\n",
    "```bash\n",
    "HTTP/1.1 200\n",
    "Cache-Control: no-cache; no-store, must-revalidate, private\n",
    "Expires: Thu, 01 Jan 1970 00:00:00 UTC\n",
    "Pragma: no-cache\n",
    "connection: keep-alive\n",
    "content-length: 131101\n",
    "x-request-id: 96c25cb1-99c2-459e-9165-aa5ef9e3a439\n",
    "\n",
    "{\n",
    "  \"base64_prediction\": \"GhoaGhoaGhoaGhoaGhoaGhoaGh...ERERERERERERERERERERER\"\n",
    "}\n",
    "\n",
    "real    0m0.979s\n",
    "user    0m0.280s\n",
    "sys     0m0.039s\n",
    "```"
   ]
  },
  {
   "cell_type": "code",
   "execution_count": 4,
   "metadata": {},
   "outputs": [],
   "source": [
    "response = {\n",
    "    \"base64_prediction\": \"GhoaGhoaGhoaGhoaGhoaGhoaGhoaGhoaGhoaGhoaGhoaGhoaGhoaGhoaGhoaGhoaGhoaGhoaGhoaGhUVFRUVFRUVFRUVFRUVFRUVFRUVFRUVFRUVFRUVFRUVFRUVFRoaGhoaGhoaGhoaGhoaGhoaGhoaGhoaGhoaGhoaGhoaGhoaGhoaGhoaGhoaGhoaGhoaGhoaGhoaGhoaGhoaGhoaGhoaGhoaGhoaGhoaGhoaGhoaGhoaGhoaGhoVFRUVFRUVFRUVFRUVFRUVFRUVFRUVFRUVFRUVFRUVFRUVFRUVGhoaGhoaGhoaGhoaGhoaGhoaGhoaGhoaGhoaGhoaGhoaGhoaGhoaGhoaGhoaGhoaGhoaGhoaGhoaGhoaGhoaGhoaGhoaGhoaGhoaGhoaGhoaGhoaGhoaGhoaGhUVFRUVFRUVFRUVFRUVFRUVFRUVFRUVFRUVFRUVFRUVFRUVFRUaGhoaGhoaGhoaGhoaGhoaGhoaGhoaGhoaGhoaGhoaGhoaGhoaGhoaGhoaGhoaGhoaGhoaGhoaGhoaGhoaGhoaGhoaGhoaGhoaGhoaGhoaGhoaGhoaGhoaGhoaFRUVFRUVFRUVFRUVFRUVFRUVFRUVFRUVFRUVFRUVFRUVFRUVFRUaGhoaGhoaGhoaGhoaGhoaGhoaGhoaGhoaGhoaGhoaGhoaGhoaGhoaGhoaGhoaGhoaGhoaGhoaGhoaGhoaGhoaGhoaGhoaGhoaGhoaGhoaGhoaGhoaGhoaGhoVFRUVFRUVFRUVFRUVFRUVFRUVFRUVFRUVFRUVFRUVFRUVFRUVFRUaGhoaGhoaGhoaGhoaGhoaGhoaGhoaGhoaGhoaGhoaGhoaGhoaGhoaGhoaGhoaGhoaGhoaGhoaGhoaGhoaGhoaGhoaGhoaGhoaGhoaGhoaGhoaGhoaGhoaGhUVFRUVFRUVFRUVFRUVFRUVFRUVFRUVFRUVFRUVFRUVFRUVFRUVFRUaGhoaGhoaGhoaGhoaGhoaGhoaGhoaGhoaGhoaGhoaGhoaGhoaGhoaGhoaGhoaGhoaGhoaGhoaGhoaGhoaGhoaGhoaGhoaGhoaGhoaGhoaGhoaGhoaGhUVFRUVFRUVFRUVFRUVFRUVFRUVFRUVFRUVFRUVFRUVFRUVFRUVFRUVFRUaGhoaGhoaGhoaGhoaGhoaGhoaGhoaGhoaGhoaGhoaGhoaGhoaGhoaGhoaGhoaGhoaGhoaGhoaGhoaGhoaGhoaGhoaGhoaGhoaGhoaGhoaGhoaGhoaFRoaFRUVFRUVFRUVFRUVFRUVFRUVFRUVFRUVFRUVFRUVFRUVFRUVFRUVFRoaGhoaGhoaGhoaGhoaGhoaGhoaGhoaGhoaGhoaGhoaGhoaGhoaGhoaGhoaGhoaGhoaGhoaGhoaGhoaGhoaGhoaGhoaGhoaGhoaGhoaGhoaGhoaGhUVFRUVFRUVFRUVFRUVFRUVFRUVFRUVFRUVFRUVFRUVFRUVFRUVFRUVFRUVFRoaGhoaGhoaGhoaGhoaGhoaGhoaGhoaGhoaGhoaGhoaGhoaGhoaGhoaGhoaGhoaGhoaGhoaGhoaGhoaGhoaGhoaGhoaGhoaGhoaGhoaGhoaGhoVFRUVFRUVFRUVFRUVFRUVFRUVFRUVFRUVFRUVFRUVFRUVFRUVFRUVFRUVFRUVGhoaGhoaGhoaGhoaGhoaGhoaGhoaGhoaGhoaGhoaGhoaGhoaGhoaGhoaGhoaGhoaGhoaGhoaGhoaGhoaGhoaGhoaGhoaGhoaGhoaGhoaGhoaFRUVFRUVFRUVFRUVFRUVFRUVFRUVFRUVFRUVFRUVFRUVFRUVFRUVFRUVFRUVFRUVGhoaGhoaFRUaGhoaGhoaGhoaGhoaGhoaGhoaGhoaGhoaGhoaGhoaGhoaGhoaGhoaGhoaGhoaGhoaGhoaGhoaGhoaGhoaGhoaGhoaGhoaGhoVFRUVFRUVFRUVFRUVFRUVFRUVFRUVFRUVFRUVFRUVFRUVFRUVFRUVFRUVFRUVFRUaGhoaGhoVFRoaGhoaGhoaGhoaGhoaGhoaGhoaGhoaGhoaGhoaGhoaGhoaGhoaGhoaGhoaGhoaGhoaGhoaGhoaGhoaGhoaGhoaGhoaGhoaGhUVFRUVFRUVFRUVFRUVFRUVFRUVFRUVFRUVFRUVFRUVFRUVFRUVFRUVFRUVFRUVFRoaGhoaGhUVGhoaGhoaGhoaGhoaGhoaGhoaGhoaGhoaGhoaGhoaGhoaGhoaGhoaGhoaGhoaGhoaGhoaGhoaGhoaGhoaGhoaGhoaGhoaGhoaFRUVFRUVFRUVFRUVFRUVFRUVFRUVFRUVFRUVFRUVFRUVFRUVFRUVFRUVFRUVFRUVGhoaGhoVGhUaGhoaGhoaGhoaGhoaGhoaGhoaGhoaGhoaGhoaGhoaGhoaGhoaGhoaGhoaGhoaGhoaGhoaGhoaGhoaGhoaGhoaGhoaGhoaGhoVFRUVFRUVFRUVFRUVFRUVFRUVFRUVFRUVFRUVFRUVFRUVFRUVFRUVFRUVFRUVFRUaGhoaFRUVFRoaGhoaGhoaGhoaGhoaGhoaGhoaGhoaGhoaGhoaGhoaGhoaGhoaGhoaGhoaGhoaGhoaGhoaGhoaGhoaGhoaGhoaGhoaGhoaGhUVFRUVFRUVFRUVFRUVFRUVFRUVFRUVFRUVFRUVFRUVFRUVFRUVFRUVFRUVFRUVFRoaGhoVFRUVGhoaGhoaGhoaGhoaGhoaGhoaGhoaGhoaGhoaGhoaGhoaGhoaGhoaGhoaGhoaGhoaGhoaGhoaGhoaGhoaGhoaGhoaGhoaGhoaFRUVFRUVFRUVFRUVFRUVFRUVFRUVFRUVFRUVFRUVFRUVFRUVFRUVFRUVFRUVFRUVGhoaFRUVFRUaGhoaGhoaGhoaGhoaGhoaGhoaGhoaGhoaGhoaGhoaGhoaGhoaGhoaGhoaGhoaGhoaGhoaGhoaGhoaGhoaGhoaGhoaGhoaGhoVFRUVFRUVFRUVFRUVFRUVFRUVFRUVFRUVFRUVFRUVFRUVFRUVFRUVFRUVFRUVFRUaGhoVFRUaGhoaGhoaGhoaGhoaGhoaGhoaGhoaGhoaGhoaGhoaGhoaGhoaGhoaGhoaGhoaGhoaGhoaGhoaGhoaGhoaGhoaGhoaGhoaGhoaGhUVFRUVFRUVFRUVFRUVFRUVFRUVFRUVFRUVFRUVFRUVFRUVFRUVFRUVFRUVFRUVFRoaFRUVGhoaGhoaGhoaGhoaGhoaGhoaGhoaGhoaGhoaGhoaGhoaGhoaGhoaGhoaGhoaGhoaGhoaGhoaGhoaGhoaGhoaGhoaGhoaGhoaGhoaFRUVFRUVFRUVFRUVFRUVFRUVFRUVFRUVFRUVFRUVFRUVFRUVFRUVFRUVFRUVFRUVGhoaBAQEGhoaGhoaGhoaGhoaGhoaGhoaGhoaGhoaGhoaGhoaGhoaGhoaGhoaGhoaGhoaGhoaGhoaGhoaGhoaGhoaGhoaGhoaGhoaGhoaGhoVFRUVFRUVFRUVFRUVFRUVFRUVFRUVFRUVFRUVFRUVFRUVFRUVFRUVFRUVFRUEBAQEBAQEBAQEBBoaGhoaGhoaGhoaGhoaGhoaGhoaGhoaGhoaGhoaGhoaGhoaGhoaGhoaGhoaGhoaGhoaGhoaGhoaGhoaGhoaGhoaGhoaGhoaGhUVFRUVFRUVFRUVFRUVFRUVFRUVFRUVFRUVFRUVFRUVFRUVFRUVFRUVFRUVFQQEBAQEBAQEBAQEGhoaGhoaGhoaGhoaGhoaGhoaGhoaGhoaGhoaGhoaGhoaGhoaGhoaGhoaGhoaGhoaGhoaGhoaGhoaGhoaGhoaGhoaGhoaFRoaFRUVFRUVFRUVFRUVFRUVFRUVFRUVFRUVFRUVFRUVFRUVFRUVFRUVFRUVFRUEBAQEBAQEBAQEBAQaGhoaGhoaGhoaGhoaGhoaGhoaGhoaGhoaGhoaGhoaGhoaGhoaGhoaGhoaGhoaGhoaGhoaGhoaGhoaGhoaGhoaGhoaGhoaGhUVFRUVFRUVFRUVFRUVFRUVFRUVFRUVFRUVFRUVFRUVFRUVFRUVFRUVFRUVFQQEBAQEBAQEBAQEBBoaGhoaGhoaGhoaGhoaGhoaGhoaGhoaGhoaGhoaGhoaGhoaGhoaGhoaGhoaGhoaGhoaGhoaGhoaGhoaGhoaGhoaGhoaGhoaFRUVFRUVFRUVFRUVFRUVFRUVFRUVFRUVFRUVFRUVFRUVFRUVFRUVFRUVFRUEBAQEBAQEBAQEBAQEGhoaGhoaGhoaGhoaGhoaGhoaGhoaGhoaGhoaGhoaGhoaGhoaGhoaGhoaGhoaGhoaGhoaGhoaGhoaGhoaGhoaGhoaGhoaGhoaFRUVFRUVFRUVFRUVFRUVFRUVFRUVFRUVFRUVFRUVFRUVFRUVFRUVFRUVBAQEBAQEBAQEBAQEBAQaGhoaGhoaGhoaGhoaGhoaGhoaGhoaGhoaGhoaGhoaGhoaGhoaGhoaGhoaGhoaGhoaGhoaGhoaGhoaGhoaGhoaGhoaGhoaBAQEFRUVFRUVFRUVFRUVFRUVFRUVFRUVFRUVFRUVFRUVFRUVFRUVFRUVFQQEBAQEBAQEBAQEBAQEBBoaGhoaGhoaGhoaGhoaGhoaGhoaGhoaGhoaGhoaGhoaGhoaGhoaGhoaGhoaGhoaGhoaGhoaGhoaGhoaGhoaGhoaGhoaGhoEBAQVFRUVFRUVFRUVFRUVFRUVFRUVFRUVFRUVFRUVFRUVFRUVFRUVFRUVBAQEBAQEBAQEBAQEBAQEGhoaGhoaGhoaGhoaGhoaGhoaGhoaGhoaGhoaGhoaGhoaGhoaGhoaGhoaGhoaGhoaGhoaGhoaGhoaGhoaGhoaGhoaGhoaBAQEBBUVFRUVFRUVFRUVFRUVFRUVFRUVFRUVFRUVFRUVFRUVFRUVFRUVFRUYGBgEBAQEBAQEBAQEBAQaGhoaGhoaGhoaGhoaGhoaGhoaGhoaGhoaGhoaGhoaGhoaGhoaGhoaGhoaGhoaGhoaGhoaGhoaGhoaGhoaGhoaGhoaGhoEBAQEFRUVFRUVFRUVFRUVFRUVFRUVFRUVFRUVFRUVFRUVFRUVFRUVFRUVFRgYGAQEBAQEBAQEBAQEBBoaGhoaGhoaGhoaGhoaGhoaGhoaGhoaGhoaGhoaGhoaGhoaGhoaGhoaGhoaGhoaGhoaGhoaGhoaGhoaGhoaGhoaGhoaBAQEBAQVFRUVFRUVFRUVFRUVFRUVFRUVFQQVFRUVFRUVFRUVFRUVFRUVFRUVGBgYGAQEBAQEBAQEBAQEBBoaGhoaGhoaGhoaGhoaGhoaGhoaGhoaGhoaGhoaGhoaGhoaGhoaGhoaGhoaGhoaGhoaGhoaGhoaGhoaGhoaGhoaGhoEBAQEBBUVFRUVFRUVFRUVFRUVFRUVBAQEBAQEBAQVFRUVFRUVFRUVFRUVFRUYGBgYBAQEBAQEBAQEBAQEGhoaGhoaGhoaGhoaGhoaGhoaGhoaGhoaGhoaGhoaGhoaGhoaGhoaGhoaGhoaGhoaGhoaGhoaGhoaGhoaGhoaGhoaBAQEBAQEBBUVFRUVFRUVFRUVFRUVFQQEBAQEBAQEBAQEFRUVFRUVFRUVFRUVFRgYGAQEBAQEBAQEBAQEBAQaGhoaGhoaGhoaGhoaGhoaGhoaGhoaGhoaGhoaGhoaGhoaGhoaGhoaGhoaGhoaGhoaGhoaGhoaGhoaGhoaGhoaGhoEBAQEBAQEFRUVFRUVFRUVFRUVFRUVBAQEBAQEBAQEBAQEFRUVFRUVFRUVFRUVGBgYBAQEBAQEBAQEBAQEBAQaGhoaGhoaGhoaGhoaGhoaGhoaGhoaGhoaGhoaGhoaGhoaGhoaGhoaGhoaGhoaGhoaGhoaGhoaGhoaGhoaGhoaBAQEBAQEBAQVFRUVFRUVFRUVFRUVFQQEBAQEBAQEBAQEBAQVFRUVFRUVFRUVFRUYGBgEBAQEBAQEBAQEBAQEBBoaGhoaGhoaGhoaGhoaGhoaGhoaGhoaGhoaGhoaGhoaGhoaGhoaGhoaGhoaGhoaGhoaGhoaGhoaGhoaGhoaGhoEBAQEBAQEBBUVFRUVFRUVFRUVFQQEBAQEBAQEBAQEBAQEBBUVFRoaFRUVFRUVFRgYGAQEBAQEBAQEBAQEBAQEGhoaGhoaGhoaGhoaGhoaGhoaGhoaGhoaGhoaGhoaGhoaGhoaGhoaGhoaGhoaGhoaGhoaGhoaGhoaGhoaGhoaBAQEBAQEBAQEFRUVFRUVFRUVFRUEBAQEBAQEBAQEBAQEBAQEBBoaGhoEFRUVFRUVGBgYBAQEBAQEBAQEBAQEBAQEGhoaGhoaGhoaGhoaGhoaGhoaGhoaGhoaGhoaGhoaGhoaGhoaGhoaGhoaGhoaGhoaGgQEBBoaGhoaGhoaGhoEBAQEBAQEBAQEFRUVFRUVFRUEBAQEBAQEBAQEBAQEBAQEBAQaGhoaGgQEBBUVFRUEGBgEBAQEBAQEBAQEBAQEBAQaGhoaGhoaGhoaGhoaGhoaGhoaGhoaGhoaGhoaGhoaGhoaGhoaGhoaGhoaGhoaGhoaBAQEBBoaGhoaGhoaGgQEBAQEBAQEBAQEFRUVFRUVBAQEBAQEBAQEBAQEBAQEBAQEGhoaGhoaGgQEBBUVFQQYBAQEBAQEBAQEBAQEBAQEBAQaGhoaGhoaGhoaGhoaGhoEGhoaGhoaGhoaGhoaGhoaGhoaGhoaGhoaGhoaGhoaGgQEBAQEGhoaGhoaGhoaBAQEBAQEBAQEBAQEFRUVFQQEBAQEBAQEBAQEBAQEBAQEBAQaGhoaGhoaGgQEBBUEBAQEBAQEBAQEBAQEBAQEBAQEBBoaGhoaGhoaGhoaGhoaGgQaGhoaGhoaGhoaGhoaGhoaGhoaGhoaGhoaGhoaGhoEBAQEBAQEGhoaGhoaGhoEBAQEBAQEBAQEBAQVFRUEBAQEBAQEBAQEBAQEBAQEBAQEBBoaGhoaGhoaBAQEBAQEBAQEBAQEBAQEBAQEBAQEBAQEBBoaGhoaGhoaGhoaGgQEBBoaGhoaGhoaGhoaGhoaGhoaGhoaGhoaGhoaGhoaGgQEBAQEBAQaGhoaGhoaGhoEBAQEBAQEBAQEBBUVBAQEBAQEBAQEBAQEBAQEBAQEBAQEGhoaGhoaGhoEBAQEBAQEBAQEBAQEBAQEBAQEBAQEBAQEBBoaGhoaGhoaGhoEBAQEGhoaGhoaCQkJCQkJGhoaGhoaGhoaGhoaGhoaGhoEBAQEBAQEBBoaGhoaGhoaHh4eBAQEBAQEBAQEBAQEBAQEBAQEBAQEBAQEBAQEBAQEBAQaGhoaGhoaGgQEBAQEBAQEBAQEBAQEBAQEBAQEBAQEBAQEGhoaGhoaGhoaGgQEBAQaGhodCQkJCQkJCQkJCQkJCQkJCQkJGhoaGhoaHh4EBAQEBAQeGhoaGgkJCQkJCR4eHh4EBAQeBB4EBAQEBQUFBQQEBAQEBAQEBAQEBAQEBAkJGhoaGhoaBAQEBAQEBAQEBAQEBAQEBAQEBAQEBAQEBAQaGhoaGhoaGhoEBAQEBBoaHR0JCQkJCQkJCQkJCQkJCQkJCQkJCQkJCQkJCQkJCQkJCQkJCQkJCQkJCQkJCR4eHh4eHh4eHh4FBQUFBQUFBQUFBQUFBQUFBQQEBAkJCQkJCQkJCQkEBAQEBAQEBAQEBAQEBAQEBAQEBAQEBAQEBBoaGhoaGhoaBAQEBAQEHR0JCQkJCQkJCQkJCQkJCQkJCQkJCQkJCQkJCQkJCQkJCQkJCQkJCQkJCQkJCQkJCR4eHh4eHh4eHgUFBQUFBQUFBQUFBQUFBQUFBQUECQkJCQkJCQkJCQkEBAQEBAQEBAQEBAQEBAQEBAQEBAQEBAQEHhoaGhoaBAQEBAQEBAQdHQkJCQkJCQkJCQkJCQkJCQkJCQkJCQkJCQkJCQkJCQkJCQkJCQkJCQkJCQkJCQkeHh4EHh4TExMTBQUFBQUFBQUFBQUFBQUFBQUFBQUJCQkJCQkJCQkJCQQEBAQEBAQEBBoEBAQEBAQEBAQEBAQEBAQeHh4eHh4EBAQEBAQEBB0dCQkJCQkJCQkJCQkJCQkJCQkJCQkJCQkJCQkJCQkJCQkJCQkJCQkJCQkJCQkfHx8eHhMTExMTExEREQUFBQUFBQUFBQUFBQUFBQUFBR4eCQkJCQkJCQkJBAQEBAQEHh4eHh4eBAQEBAQEBAQEBAQEHh4eHh4eHh4eBAQEBAQEHR0JCQkJCQkJCQkJCQkJCQkJCQkJCQkJCQkJCQkJCQkJCQkJCQkJCQkJHx8fHx8fHx8TExMTExMREREREREREREREREFBQUFBQUFBQUFBR4eHx8fHx8JCQkEBAQEBB4eCQkJCQkJCQkeBAQEHh4eHh4eHh4eHh4eHh4EBAQEBAQfHx8fCQkJCQkJCQkJCQkJCQkJCQkJCQkJCQkJCQkJCQkJHx8fHx8fHx8fHx8fHx8TExMTExMTEREREREREREREREREREREREFBQUFBQUTExMTHx8fHx8fHh4EBAQeHgkJCQkJCQkJCQkJHh4eHh4eHh4eHh4eHh4eHgUFBQUFBR8fHx8fHx8fHx8fHx8JCQkJCQkJCQkfHx8fHx8fHx8fHx8fHx8fHx8fHxMTExMTExMTExMTExMRERERERERERERERERERERERERERERERETExMTExMTExMTHh4eHh4fHwkJCQkJCQkJCQkJHh4eHh4eHh4eHh4eHgUFBQUFBQUFHx8fHx8fHx8fHx8fHx8fHx8fHx8fHx8fHx8fHx8fHx8TExMTExMTExMTExMTExMTExMTExMTERERERERERERERERERERERERERERERERERETExMTExMTExMTExMfHx8fHx8fHx8fHx8fHx8fHh4eHh4eHh4eHh4FBQUFBQUFBQUfHx8fHx8fHx8fHx8fHx8fHx8fHx8fHx8TExMTExMTExMTExMTExMTExMTExMTExMTExMTExERERERERERERERERERERERERERERERERERERERERMTExMTExMTExMTHx8fHx8fHx8fHx8fHx8eHh4eHh4FBQUFBQUFBQUFBQUFBR8fHx8fHx8fHx8fHx8fHx8TExMTExMTExMTExMTExMTExMTExMTExMTExMTExMTExMTExMRERERERERERERERERERERERERERERERERERERERERERERExMTExMTExMTExMTHx8fHx8fHx8fHx8eHh4eBQUFBQUFBQUFBQUFBQUFHx8fHx8fExMTExMTExMTExMTExMTExMTExMTExMTExMTExMTExMTExMTExMTExMTExMTERERERERERERERERERERERERERERERERERERERERERERERERERMTExMTExMTExMTExMTHx8fHx8fHx8eHgUFBQUFBQUFBQUFBQUFBQUTHx8TExMTExMTExMTExMTExMTExMTExMTExMTExMTExMTExMTExMTExMTExMTExMTExERERERERERERERERERERERERERERERERERERERERERERERERERERERExMTExMTExMTExMTExMTEx8fHh4eBQUFBQUFBQUFBQUFBQUFBRMTExMTExMTExMTExMTExMTExMTExMTExMTExMTExMTExMTExMTExMTExMTExMTExERERERERERERERERERERERERERERERERERERERERERERERERERERERERERERMTExMTExMTExMTExMTExMTExMFBQUFBQUFBQUFBQUFBQUFExMTExMTExMTExMTExMTExMTExMTExMTExMTExMTExMTExMTExMTExMTExERERERERERERERERERERERERERERERERERERERERERERERERERERERERERERERERERERERExMTExMTExMTExMTExMTEwUFBQUFBQUFBQUFBQUFBQUTExMTExMTExMTExMTExMTExMTExMTExMTExMTExMTExMTExMRERERERERERERERERERERERERERERERERERERERERERERERERERERERERERERERERERERERERERERERERERMTExMTExMTExMTExMTBQUFBQUFBQUFBQUFBQUFBRMTExMTExMTExMTExMTExMTExMTExMTExMTExMTExMTExERERERERERERERERERERERERERERERERERERERERERERERERERERERERERERERERERERERERERERERERERERERERETExMTExMTExMTEwUFBQUFBQUFBQUFBQUFBQUFExMTExMTExMTExMTExMTExMTExMTExMTExMTExMTERERERERERERERERERERERERERERERERERERERERERERERERERERERERERERERERERERERERERERERERERERERERERERERERERETExMTExMTBQUFBQUFBQUFBQUFBQUFBQUTExMTExMTExMTExMTExMTExMTExMTExMTEREREREREREREREREREREREREREREREREREREREREREREREREREREREREREREREREREREREREREREREREREREREREREREREREREREREREREREREREREFBQUFBQUFBQUFBQUFBQUFBRMTExMTExMTExMTExMTExMTExMTEREREREREREREREREREREREREREREREREREREREREREREREREREREREREREREREREREREREREREREREREREREREREREREREREREREREREREREREREREREREREQUFBQUFBQUFBQUFBQUFBQUFExMTExMTExMTExMTExMTExMTEREREREREREREREREREREREREREREREREREREREREREREREREREREREREREREREREREREREREREREREREREREREREREREREREREREREREREREREREREREREREREREQUFBQUFBQUFBQUFBQUFBQUTExMTExMTExMTExMTExMTERERERERERERERERERERERERERERERERERERERERERERERERERERERERERERERERERERERERERERERERERERERERERERERERERERERERERERERERERERERERERERERERBQUFBQUFBQUFBQUFBQUFBRMTExMTExMTExMTExMTExEREREREREREREREREREREREREREREREREREREREREREREREREREREREREREREREREREREREREREREREREREREREREREREREREREREREREREREREREREREREREREREREREFBQUFBQUFBQUFBQUFBQUFExMTExMTExMTExMTExEREREREREREREREREREREREREREREREREREREREREREREREREREREREREREREREREREREREREREREREREREREREREREREREREREREREREREREREREREREREREREREREREREREFBQUFBQUFBQUFBQUFBQUTExMTExMTExMTExMREREREREREREREREREREREREREREREREREREREREREREREREREREREREREREREREREREREREREREREREREREREREREREREREREREREREKEREREREREREREREREREREREREREREQUFBQUFBQUFBQUFBQUFBRMTExMTExMTExMTEREREREREREREREREREREREREREREREREREREREREREREREREREREREREREREREREREREREREREREREREREREREREREREREREREREREREREREREREREREREREREREREREREREREREQUFBQUFBQUFBQUFBQUFExMTExMTExMTExEREREREREREREREREREREREREREREREREREREREREREREREREREREREREREREREREREREREREREREREREREREREREREREREREREREREREREREREREREREREREREREREREREREREREREREFBQUFBQUFBQUFBQUTExMTExMTExMREREREREREREREREREREREREREREREREREREREREREREREREREREREREREREREREREREREREREREREREREREREREREREREREREREREREREREREREREREREREREREREREREREREREREREREREREREFBQUFBQUFBRMTExMTExMTEREREREREREREREREREREREREREREREREREREREREREREREREREREREREREREREREREREREREREREREREREREREREREREREREREREREREREREREREREREREREREREREREREREREREREREREREREREREREQUFBQUFERETExMRERERERERERERERERERERERERERERERERERERERERERERERERERERERERERERERERERERERERERERERERERERERERERERERERERERERERERERERERERERERERCgoRERERERERERERERERERERERERERERERERERERBQURERERERERERERERERERERERERERERERERERERERERERERERERERERERERERERERERERERERERERERERERERERERERERERERERERERERERERERERERERERERERERERERERERERERERERERERERERERERERERERERERERERERERERERERERERERERERERERERERERERERERERERExMTERERERERERERERERERERERERERERERERERERERERERERERERERERERERERERERERERERERERERERERERERERERERERERERERERERERERERERERERERERERERERERERERERERERERERERERERERERERERERERERERERERExMTExMRERERERERERERERERERERERERERERERERERERERERERERERERERERERERERERERERERERERERERERERERERERERERERERERERERERERERERERERERERERERERERERERERERERERERERERERERERERERERERERERETExMTExMTExERERERERERERERERERERERERERERERERERERERERERERERERERERERERERERERERERERERERERERERERERERERERERERERERERERERERERERERERERERERERERERERERERERERERERERERERERERERERERERERExMTExMTExERERERERERERERERERERERERERERERERERERERERERERERERERERERERERERERERERERERERERERERERERERERERERERERERERERERERERERERERERERERERERERERERERERERERERERERERERERERERERERERERETExMTExMTERERERERERERERERERERERERERERERERERERERERERERERERERERERERERERERERERERERERERERERERERERERERERERERERERERERERERERERERERERERERERERERERERERERERERERERERERERERERERERERERERMTExMTExERERERERERERERERERERERERERERERERERERERERERERERERERERERERERERERERERERERERERERERERERERERERERERERERERERERERERERERERERERERERERERERERERERERERERERERERERERERERERERERERMTExMTExMRERERERERERERERERERERERERERERERERERERERERERERERERERERERERERERERERERERERERERERERERERERERERERERERERERERERERERERERERERERERERERERERERERERERERERERERERERERERERERERERERExMTExMTERERERERERERERERERERERERERERERERERERERERERERERERERERERERERERERERERERERERERERERERERERERERERERERERERERERERERERERERERERERERERERERERERERERERERERERERERERERERERERERERERETExMTExMRERERERERERERERERERERERERERERERERERERERERERERERERERERERERERERERERERERERERERERERERERERERERERERERERERERERERERERERERERERERERERERERERERERERERERERERERERERERERERERERERERMTExMTERERERERERERERERERERERERERERERERERERERERERERERERERERERERERERERERERERERERERERERERERERERERERERERERERERERERERERERERERERERERERERERERERERERERERERERERERERERERERERERERERERExMTERERERERERERERERERERERERERERERERERERERERERERERERERERERERERERERERERERERERERERERERERERERERERERERERERERERERERERERERERERERERERERERERERERERERERERERERERERERERERERERERERERERERERERERERERERERERERERERERERERERERERERERERERERERERERERERERERERERERERERERERERERERERERERERERERERERERERERERERERERERERERERERERERERERERERERERERERERERERERERERERERERERERERERERERERERERERERERERERERERERERERERERERERERERERERERERERERERERERERERERERERERERERERERERERERERERERERERERERERERERERERERERERERERERERERERERERERERERERERERERERERERERERERERERERERERERERERERERERERERERERERERERERERERERERERERERERERERERERERERERERERERERERERERERERERERERERERERERERERERERERERERERERERERERERERERERERERERERERERERERERERERERERERERERERERERERERERERERERERERERERERERERERERERERERERERERERERERERERERERERERERERERERERERERERERERERERERERERERERERERERERERERERERERERERERERERERERERERERERERERERERERERERERERERERERERERERERERERERERERERERERERERERERERERERERERERERERERERERERERERERERERERERERERERERERERERERERERERERERERERERERERERERERERERERERERERERERERERERERERERERERERERERERERERERERERERERChEREREREREREREREREREREREREREREREREREREREREREREREREREREREREREREREREREREREREREREREREREREREREREREREREREREREREREREREREREREREREREREREREREREREREREREREREREREREREREREREREREREREREKCgoREREREREREREREREREREREREREREREREREREREREREREREREREREREREREREREREREREREREREREREREREREREREREREREREREREREREREREREREREREREREREREREREREREREREREREREREREREREREREREREREREREREREKChERERERERERERERERERERERERERERERERERERERERERERERERERERERERERERERERERERERERERERERERERERERERERERERERERERERERERERERERERERERERERERERERERERERERERERERERERERERERERERERERERERERERERERERERERERERERERERERERERERERERERERERERERERERERERERERERERERERERERERERERERERERERERERERERERERERERERERERERERERERERERERERERERERERERERERERERERERERERERERERERERERERERERERERERERERERERERERERERERERERERERERERERERERERERERERERERERERERERERERERERERERERERERERERERERERERERERERERERERERERERERERERERERERERERERERERERERERERERERERERERERERERERERERERERERERERERERERERERERERERERERERERERERERERERERERERERERERERERERERERERERERERERERERERERERERERERERERERERERERERERERERERERERERERERERERERERERERERERERERERERERERERERERERERERERERERERERERERERERERERERERERERERER\"\n",
    "}"
   ]
  },
  {
   "cell_type": "code",
   "execution_count": 5,
   "metadata": {
    "scrolled": true
   },
   "outputs": [
    {
     "data": {
      "image/png": "[encoded data removed]",
      "text/plain": [
       "<Figure size 432x288 with 1 Axes>"
      ]
     },
     "metadata": {
      "needs_background": "light"
     },
     "output_type": "display_data"
    }
   ],
   "source": [
    "import base64\n",
    "\n",
    "pred_decoded_byte = base64.decodebytes(bytes(response[\"base64_prediction\"], encoding=\"utf-8\"))\n",
    "pred_decoded = np.reshape(\n",
    "    np.frombuffer(pred_decoded_byte, dtype=np.uint8), (96, 128)\n",
    ")\n",
    "plt.imshow(pred_decoded);"
   ]
  }
 ],
 "metadata": {
  "kernelspec": {
   "display_name": "Python 3",
   "language": "python",
   "name": "python3"
  },
  "language_info": {
   "codemirror_mode": {
    "name": "ipython",
    "version": 3
   },
   "file_extension": ".py",
   "mimetype": "text/x-python",
   "name": "python",
   "nbconvert_exporter": "python",
   "pygments_lexer": "ipython3",
   "version": "3.8.5"
  },
  "toc": {
   "base_numbering": 1,
   "nav_menu": {},
   "number_sections": true,
   "sideBar": true,
   "skip_h1_title": false,
   "title_cell": "Table of Contents",
   "title_sidebar": "Contents",
   "toc_cell": false,
   "toc_position": {},
   "toc_section_display": true,
   "toc_window_display": false
  },
  "varInspector": {
   "cols": {
    "lenName": 16,
    "lenType": 16,
    "lenVar": 40
   },
   "kernels_config": {
    "python": {
     "delete_cmd_postfix": "",
     "delete_cmd_prefix": "del ",
     "library": "var_list.py",
     "varRefreshCmd": "print(var_dic_list())"
    },
    "r": {
     "delete_cmd_postfix": ") ",
     "delete_cmd_prefix": "rm(",
     "library": "var_list.r",
     "varRefreshCmd": "cat(var_dic_list()) "
    }
   },
   "types_to_exclude": [
    "module",
    "function",
    "builtin_function_or_method",
    "instance",
    "_Feature"
   ],
   "window_display": false
  }
 },
 "nbformat": 4,
 "nbformat_minor": 4
}
